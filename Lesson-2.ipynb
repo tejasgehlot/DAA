{
  "nbformat": 4,
  "nbformat_minor": 0,
  "metadata": {
    "colab": {
      "provenance": [],
      "authorship_tag": "ABX9TyM0Jq7+tcU2tMVp3PyZ/aJl",
      "include_colab_link": true
    },
    "kernelspec": {
      "name": "python3",
      "display_name": "Python 3"
    },
    "language_info": {
      "name": "python"
    }
  },
  "cells": [
    {
      "cell_type": "markdown",
      "metadata": {
        "id": "view-in-github",
        "colab_type": "text"
      },
      "source": [
        "<a href=\"https://colab.research.google.com/github/tejasgehlot/DAA/blob/main/Lesson-2.ipynb\" target=\"_parent\"><img src=\"https://colab.research.google.com/assets/colab-badge.svg\" alt=\"Open In Colab\"/></a>"
      ]
    },
    {
      "cell_type": "code",
      "execution_count": 1,
      "metadata": {
        "colab": {
          "base_uri": "https://localhost:8080/"
        },
        "id": "FX40CuWZEuov",
        "outputId": "b777a4aa-af30-480b-e15b-a7287980e315"
      },
      "outputs": [
        {
          "output_type": "stream",
          "name": "stdout",
          "text": [
            "tejas123\n",
            "Gehlot234\n",
            "357\n"
          ]
        }
      ],
      "source": [
        "x = int(input(\"Enter X: \"))\n",
        "y = int(input(\"Enter Y: \"))\n",
        "print(x+y)"
      ]
    },
    {
      "cell_type": "code",
      "source": [
        "x = int(input(\"Enter X: \"))\n",
        "y = int(input(\"Enter Y: \"))\n",
        "c = input(\"Enter Z: \")\n",
        "if c == \"+\":\n",
        "   print(x+y)\n",
        "elif c == \"-\":\n",
        "   print(x-y)"
      ],
      "metadata": {
        "colab": {
          "base_uri": "https://localhost:8080/"
        },
        "id": "gCu_4vHpGwML",
        "outputId": "07dfee48-88a0-4640-d2af-e266185d916d"
      },
      "execution_count": 8,
      "outputs": [
        {
          "output_type": "stream",
          "name": "stdout",
          "text": [
            "Enter X: 5\n",
            "Enter Y: 6\n",
            "Enter Z: +\n",
            "11\n"
          ]
        }
      ]
    },
    {
      "cell_type": "code",
      "source": [
        "def greedy_coins(value):\n",
        "    coins = [10, 5, 2, 1]\n",
        "    result = []\n",
        "    for coin in coins:\n",
        "        while value >= coin:\n",
        "           value -= coin\n",
        "           result.append(coin)\n",
        "    return result\n",
        "print(greedy_coins(13))"
      ],
      "metadata": {
        "colab": {
          "base_uri": "https://localhost:8080/"
        },
        "id": "9aCliRn0K6ka",
        "outputId": "1cc8f59c-4570-472e-b3b9-020849ea335f"
      },
      "execution_count": 10,
      "outputs": [
        {
          "output_type": "stream",
          "name": "stdout",
          "text": [
            "[10, 2, 1]\n"
          ]
        }
      ]
    },
    {
      "cell_type": "code",
      "source": [
        "def is_prime(n):\n",
        "    if n <= 1:\n",
        "       return false\n",
        "    for i in range(2, int(n ** 0.5) + 1):\n",
        "        if n % i == 0:\n",
        "           return false\n",
        "    return true\n",
        "number = 13\n",
        "if is_prime(number):\n",
        "    print(f\"{number} is a prime no\")\n",
        "else:\n",
        "    printf\"{number} is not a prime no\")"
      ],
      "metadata": {
        "colab": {
          "base_uri": "https://localhost:8080/",
          "height": 159
        },
        "id": "BqbitKQDLwe1",
        "outputId": "9e30bcdd-ae20-49f9-b9a4-bbdf0209c5bd"
      },
      "execution_count": 14,
      "outputs": [
        {
          "output_type": "error",
          "ename": "SyntaxError",
          "evalue": "unmatched ')' (<ipython-input-14-1e7c08de3d20>, line 12)",
          "traceback": [
            "\u001b[0;36m  File \u001b[0;32m\"<ipython-input-14-1e7c08de3d20>\"\u001b[0;36m, line \u001b[0;32m12\u001b[0m\n\u001b[0;31m    printf\"{number} is not a prime no\")\u001b[0m\n\u001b[0m                                      ^\u001b[0m\n\u001b[0;31mSyntaxError\u001b[0m\u001b[0;31m:\u001b[0m unmatched ')'\n"
          ]
        }
      ]
    },
    {
      "cell_type": "code",
      "source": [
        "#lesson 2\n",
        "def binary_search(arr, target):\n",
        "    low = 0\n",
        "    high = len(arr) - 1\n",
        "\n",
        "    while low <= high:\n",
        "        mid = (low + high) // 2  # Middle index\n",
        "        if arr[mid] == target:\n",
        "            return mid  # Found it!\n",
        "        elif arr[mid] < target:\n",
        "            low = mid + 1  # Search right half\n",
        "        else:\n",
        "            high = mid - 1  # Search left half\n",
        "    return -1  # Not found\n",
        "arr = [2, 4, 6, 8, 10, 12]\n",
        "target = 12\n",
        "print(\"Index of\", target, \"is\", binary_search(arr, target))  # Output: 4"
      ],
      "metadata": {
        "colab": {
          "base_uri": "https://localhost:8080/"
        },
        "id": "osqgNsjRVZMY",
        "outputId": "33bcf0c2-6906-4dd4-c454-30d214860939"
      },
      "execution_count": 19,
      "outputs": [
        {
          "output_type": "stream",
          "name": "stdout",
          "text": [
            "Index of 12 is 5\n"
          ]
        }
      ]
    }
  ]
}